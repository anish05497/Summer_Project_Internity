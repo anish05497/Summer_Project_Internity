{
 "cells": [
  {
   "cell_type": "markdown",
   "metadata": {},
   "source": [
    "## Importing Libraries"
   ]
  },
  {
   "cell_type": "code",
   "execution_count": 1,
   "metadata": {},
   "outputs": [],
   "source": [
    "import numpy as np\n",
    "import pandas as pd \n",
    "import matplotlib as plt\n",
    "import seaborn as sns\n",
    "%matplotlib inline"
   ]
  },
  {
   "cell_type": "markdown",
   "metadata": {},
   "source": [
    "### Importing Dataset"
   ]
  },
  {
   "cell_type": "code",
   "execution_count": 2,
   "metadata": {},
   "outputs": [],
   "source": [
    "loan_credit=pd.read_csv(r\"C:\\Users\\Anish Gupta\\Desktop\\XYZCorp_LendingData.txt\",sep='\\t',na_values='NaN',parse_dates=['issue_d'],low_memory=False)\n"
   ]
  },
  {
   "cell_type": "code",
   "execution_count": 3,
   "metadata": {},
   "outputs": [
    {
     "data": {
      "text/html": [
       "<div>\n",
       "<style scoped>\n",
       "    .dataframe tbody tr th:only-of-type {\n",
       "        vertical-align: middle;\n",
       "    }\n",
       "\n",
       "    .dataframe tbody tr th {\n",
       "        vertical-align: top;\n",
       "    }\n",
       "\n",
       "    .dataframe thead th {\n",
       "        text-align: right;\n",
       "    }\n",
       "</style>\n",
       "<table border=\"1\" class=\"dataframe\">\n",
       "  <thead>\n",
       "    <tr style=\"text-align: right;\">\n",
       "      <th></th>\n",
       "      <th>id</th>\n",
       "      <th>member_id</th>\n",
       "      <th>loan_amnt</th>\n",
       "      <th>funded_amnt</th>\n",
       "      <th>funded_amnt_inv</th>\n",
       "      <th>term</th>\n",
       "      <th>int_rate</th>\n",
       "      <th>installment</th>\n",
       "      <th>grade</th>\n",
       "      <th>sub_grade</th>\n",
       "      <th>...</th>\n",
       "      <th>il_util</th>\n",
       "      <th>open_rv_12m</th>\n",
       "      <th>open_rv_24m</th>\n",
       "      <th>max_bal_bc</th>\n",
       "      <th>all_util</th>\n",
       "      <th>total_rev_hi_lim</th>\n",
       "      <th>inq_fi</th>\n",
       "      <th>total_cu_tl</th>\n",
       "      <th>inq_last_12m</th>\n",
       "      <th>default_ind</th>\n",
       "    </tr>\n",
       "  </thead>\n",
       "  <tbody>\n",
       "    <tr>\n",
       "      <th>0</th>\n",
       "      <td>1077501</td>\n",
       "      <td>1296599</td>\n",
       "      <td>5000.0</td>\n",
       "      <td>5000.0</td>\n",
       "      <td>4975.0</td>\n",
       "      <td>36 months</td>\n",
       "      <td>10.65</td>\n",
       "      <td>162.87</td>\n",
       "      <td>B</td>\n",
       "      <td>B2</td>\n",
       "      <td>...</td>\n",
       "      <td>NaN</td>\n",
       "      <td>NaN</td>\n",
       "      <td>NaN</td>\n",
       "      <td>NaN</td>\n",
       "      <td>NaN</td>\n",
       "      <td>NaN</td>\n",
       "      <td>NaN</td>\n",
       "      <td>NaN</td>\n",
       "      <td>NaN</td>\n",
       "      <td>0</td>\n",
       "    </tr>\n",
       "    <tr>\n",
       "      <th>1</th>\n",
       "      <td>1077430</td>\n",
       "      <td>1314167</td>\n",
       "      <td>2500.0</td>\n",
       "      <td>2500.0</td>\n",
       "      <td>2500.0</td>\n",
       "      <td>60 months</td>\n",
       "      <td>15.27</td>\n",
       "      <td>59.83</td>\n",
       "      <td>C</td>\n",
       "      <td>C4</td>\n",
       "      <td>...</td>\n",
       "      <td>NaN</td>\n",
       "      <td>NaN</td>\n",
       "      <td>NaN</td>\n",
       "      <td>NaN</td>\n",
       "      <td>NaN</td>\n",
       "      <td>NaN</td>\n",
       "      <td>NaN</td>\n",
       "      <td>NaN</td>\n",
       "      <td>NaN</td>\n",
       "      <td>1</td>\n",
       "    </tr>\n",
       "    <tr>\n",
       "      <th>2</th>\n",
       "      <td>1077175</td>\n",
       "      <td>1313524</td>\n",
       "      <td>2400.0</td>\n",
       "      <td>2400.0</td>\n",
       "      <td>2400.0</td>\n",
       "      <td>36 months</td>\n",
       "      <td>15.96</td>\n",
       "      <td>84.33</td>\n",
       "      <td>C</td>\n",
       "      <td>C5</td>\n",
       "      <td>...</td>\n",
       "      <td>NaN</td>\n",
       "      <td>NaN</td>\n",
       "      <td>NaN</td>\n",
       "      <td>NaN</td>\n",
       "      <td>NaN</td>\n",
       "      <td>NaN</td>\n",
       "      <td>NaN</td>\n",
       "      <td>NaN</td>\n",
       "      <td>NaN</td>\n",
       "      <td>0</td>\n",
       "    </tr>\n",
       "    <tr>\n",
       "      <th>3</th>\n",
       "      <td>1076863</td>\n",
       "      <td>1277178</td>\n",
       "      <td>10000.0</td>\n",
       "      <td>10000.0</td>\n",
       "      <td>10000.0</td>\n",
       "      <td>36 months</td>\n",
       "      <td>13.49</td>\n",
       "      <td>339.31</td>\n",
       "      <td>C</td>\n",
       "      <td>C1</td>\n",
       "      <td>...</td>\n",
       "      <td>NaN</td>\n",
       "      <td>NaN</td>\n",
       "      <td>NaN</td>\n",
       "      <td>NaN</td>\n",
       "      <td>NaN</td>\n",
       "      <td>NaN</td>\n",
       "      <td>NaN</td>\n",
       "      <td>NaN</td>\n",
       "      <td>NaN</td>\n",
       "      <td>0</td>\n",
       "    </tr>\n",
       "    <tr>\n",
       "      <th>4</th>\n",
       "      <td>1075358</td>\n",
       "      <td>1311748</td>\n",
       "      <td>3000.0</td>\n",
       "      <td>3000.0</td>\n",
       "      <td>3000.0</td>\n",
       "      <td>60 months</td>\n",
       "      <td>12.69</td>\n",
       "      <td>67.79</td>\n",
       "      <td>B</td>\n",
       "      <td>B5</td>\n",
       "      <td>...</td>\n",
       "      <td>NaN</td>\n",
       "      <td>NaN</td>\n",
       "      <td>NaN</td>\n",
       "      <td>NaN</td>\n",
       "      <td>NaN</td>\n",
       "      <td>NaN</td>\n",
       "      <td>NaN</td>\n",
       "      <td>NaN</td>\n",
       "      <td>NaN</td>\n",
       "      <td>0</td>\n",
       "    </tr>\n",
       "  </tbody>\n",
       "</table>\n",
       "<p>5 rows × 73 columns</p>\n",
       "</div>"
      ],
      "text/plain": [
       "        id  member_id  loan_amnt  funded_amnt  funded_amnt_inv        term  \\\n",
       "0  1077501    1296599     5000.0       5000.0           4975.0   36 months   \n",
       "1  1077430    1314167     2500.0       2500.0           2500.0   60 months   \n",
       "2  1077175    1313524     2400.0       2400.0           2400.0   36 months   \n",
       "3  1076863    1277178    10000.0      10000.0          10000.0   36 months   \n",
       "4  1075358    1311748     3000.0       3000.0           3000.0   60 months   \n",
       "\n",
       "   int_rate  installment grade sub_grade  ... il_util open_rv_12m open_rv_24m  \\\n",
       "0     10.65       162.87     B        B2  ...     NaN         NaN         NaN   \n",
       "1     15.27        59.83     C        C4  ...     NaN         NaN         NaN   \n",
       "2     15.96        84.33     C        C5  ...     NaN         NaN         NaN   \n",
       "3     13.49       339.31     C        C1  ...     NaN         NaN         NaN   \n",
       "4     12.69        67.79     B        B5  ...     NaN         NaN         NaN   \n",
       "\n",
       "   max_bal_bc all_util total_rev_hi_lim inq_fi total_cu_tl inq_last_12m  \\\n",
       "0         NaN      NaN              NaN    NaN         NaN          NaN   \n",
       "1         NaN      NaN              NaN    NaN         NaN          NaN   \n",
       "2         NaN      NaN              NaN    NaN         NaN          NaN   \n",
       "3         NaN      NaN              NaN    NaN         NaN          NaN   \n",
       "4         NaN      NaN              NaN    NaN         NaN          NaN   \n",
       "\n",
       "  default_ind  \n",
       "0           0  \n",
       "1           1  \n",
       "2           0  \n",
       "3           0  \n",
       "4           0  \n",
       "\n",
       "[5 rows x 73 columns]"
      ]
     },
     "execution_count": 3,
     "metadata": {},
     "output_type": "execute_result"
    }
   ],
   "source": [
    "loan_credit.head()"
   ]
  },
  {
   "cell_type": "code",
   "execution_count": 4,
   "metadata": {},
   "outputs": [
    {
     "data": {
      "text/html": [
       "<div>\n",
       "<style scoped>\n",
       "    .dataframe tbody tr th:only-of-type {\n",
       "        vertical-align: middle;\n",
       "    }\n",
       "\n",
       "    .dataframe tbody tr th {\n",
       "        vertical-align: top;\n",
       "    }\n",
       "\n",
       "    .dataframe thead th {\n",
       "        text-align: right;\n",
       "    }\n",
       "</style>\n",
       "<table border=\"1\" class=\"dataframe\">\n",
       "  <thead>\n",
       "    <tr style=\"text-align: right;\">\n",
       "      <th></th>\n",
       "      <th>issue_d</th>\n",
       "    </tr>\n",
       "  </thead>\n",
       "  <tbody>\n",
       "    <tr>\n",
       "      <th>0</th>\n",
       "      <td>2011-12-01</td>\n",
       "    </tr>\n",
       "    <tr>\n",
       "      <th>1</th>\n",
       "      <td>2011-12-01</td>\n",
       "    </tr>\n",
       "    <tr>\n",
       "      <th>2</th>\n",
       "      <td>2011-12-01</td>\n",
       "    </tr>\n",
       "    <tr>\n",
       "      <th>3</th>\n",
       "      <td>2011-12-01</td>\n",
       "    </tr>\n",
       "    <tr>\n",
       "      <th>4</th>\n",
       "      <td>2011-12-01</td>\n",
       "    </tr>\n",
       "  </tbody>\n",
       "</table>\n",
       "</div>"
      ],
      "text/plain": [
       "     issue_d\n",
       "0 2011-12-01\n",
       "1 2011-12-01\n",
       "2 2011-12-01\n",
       "3 2011-12-01\n",
       "4 2011-12-01"
      ]
     },
     "execution_count": 4,
     "metadata": {},
     "output_type": "execute_result"
    }
   ],
   "source": [
    "loan_credit[['issue_d']].head()"
   ]
  },
  {
   "cell_type": "markdown",
   "metadata": {},
   "source": [
    "### Dividing Dataset in Train And Test.."
   ]
  },
  {
   "cell_type": "code",
   "execution_count": null,
   "metadata": {},
   "outputs": [],
   "source": [
    "train_df = loan_credit[loan_credit['issue_d'] < '2015-6-01']\n",
    "test_df = loan_credit[loan_credit['issue_d'] >= '2015-6-01']"
   ]
  },
  {
   "cell_type": "markdown",
   "metadata": {},
   "source": [
    "Shape of Train and Test dataset"
   ]
  },
  {
   "cell_type": "code",
   "execution_count": 6,
   "metadata": {},
   "outputs": [
    {
     "data": {
      "text/plain": [
       "(598978, 73)"
      ]
     },
     "execution_count": 6,
     "metadata": {},
     "output_type": "execute_result"
    }
   ],
   "source": [
    "train_df.shape"
   ]
  },
  {
   "cell_type": "code",
   "execution_count": 7,
   "metadata": {},
   "outputs": [
    {
     "data": {
      "text/plain": [
       "(256991, 73)"
      ]
     },
     "execution_count": 7,
     "metadata": {},
     "output_type": "execute_result"
    }
   ],
   "source": [
    "test_df.shape"
   ]
  },
  {
   "cell_type": "code",
   "execution_count": 8,
   "metadata": {},
   "outputs": [],
   "source": [
    "#Deleting some columns..\n",
    "Range_columns = [i for i in range(59,70)]\n",
    "train_data_1 = train_df.drop(train_df.columns[Range_columns],axis = 1)\n",
    "test_data_1 = test_df.drop(test_df.columns[Range_columns],axis =1)"
   ]
  },
  {
   "cell_type": "code",
   "execution_count": 9,
   "metadata": {},
   "outputs": [
    {
     "data": {
      "text/plain": [
       "(598978, 62)"
      ]
     },
     "execution_count": 9,
     "metadata": {},
     "output_type": "execute_result"
    }
   ],
   "source": [
    "train_data_1.shape"
   ]
  },
  {
   "cell_type": "code",
   "execution_count": 10,
   "metadata": {},
   "outputs": [
    {
     "data": {
      "text/plain": [
       "(256991, 62)"
      ]
     },
     "execution_count": 10,
     "metadata": {},
     "output_type": "execute_result"
    }
   ],
   "source": [
    "test_data_1.shape"
   ]
  },
  {
   "cell_type": "code",
   "execution_count": 11,
   "metadata": {},
   "outputs": [],
   "source": [
    "del_columns = ['total_cu_tl','inq_last_12m','annual_inc_joint','dti_joint',\n",
    "               'verification_status_joint']\n",
    "Train_data_1 = train_data_1.drop(labels = del_columns,axis = 1)\n",
    "Test_data_1 = test_data_1.drop(labels = del_columns,axis = 1)"
   ]
  },
  {
   "cell_type": "code",
   "execution_count": 12,
   "metadata": {},
   "outputs": [],
   "source": [
    "drop_more_col = ['open_il_6m']\n",
    "Train_data_2 = Train_data_1.drop(labels = drop_more_col,axis = 1)\n",
    "Test_data_2 = Test_data_1.drop(labels = drop_more_col,axis = 1)"
   ]
  },
  {
   "cell_type": "code",
   "execution_count": 13,
   "metadata": {},
   "outputs": [
    {
     "name": "stdout",
     "output_type": "stream",
     "text": [
      "the shape of train data; (598978, 56)\n",
      "the shape of test data; (256991, 56)\n"
     ]
    }
   ],
   "source": [
    "print(\"the shape of train data;\",Train_data_2.shape)\n",
    "print(\"the shape of test data;\",Test_data_2.shape)"
   ]
  },
  {
   "cell_type": "code",
   "execution_count": 14,
   "metadata": {},
   "outputs": [],
   "source": [
    "train_target = pd.DataFrame(Train_data_1['default_ind'])\n",
    "test_target = pd.DataFrame(Test_data_1['default_ind'])"
   ]
  },
  {
   "cell_type": "code",
   "execution_count": 15,
   "metadata": {},
   "outputs": [],
   "source": [
    "Train_data_3 = Train_data_2.iloc[:,0:56]\n",
    "Test_data_3 = Test_data_2.iloc[:,0:56]"
   ]
  },
  {
   "cell_type": "code",
   "execution_count": 16,
   "metadata": {},
   "outputs": [
    {
     "data": {
      "text/plain": [
       "(256991, 56)"
      ]
     },
     "execution_count": 16,
     "metadata": {},
     "output_type": "execute_result"
    }
   ],
   "source": [
    "Test_data_3.shape"
   ]
  },
  {
   "cell_type": "code",
   "execution_count": 17,
   "metadata": {
    "scrolled": true
   },
   "outputs": [
    {
     "data": {
      "text/html": [
       "<div>\n",
       "<style scoped>\n",
       "    .dataframe tbody tr th:only-of-type {\n",
       "        vertical-align: middle;\n",
       "    }\n",
       "\n",
       "    .dataframe tbody tr th {\n",
       "        vertical-align: top;\n",
       "    }\n",
       "\n",
       "    .dataframe thead th {\n",
       "        text-align: right;\n",
       "    }\n",
       "</style>\n",
       "<table border=\"1\" class=\"dataframe\">\n",
       "  <thead>\n",
       "    <tr style=\"text-align: right;\">\n",
       "      <th></th>\n",
       "      <th>id</th>\n",
       "      <th>member_id</th>\n",
       "      <th>loan_amnt</th>\n",
       "      <th>funded_amnt</th>\n",
       "      <th>funded_amnt_inv</th>\n",
       "      <th>int_rate</th>\n",
       "      <th>installment</th>\n",
       "      <th>annual_inc</th>\n",
       "      <th>dti</th>\n",
       "      <th>delinq_2yrs</th>\n",
       "      <th>...</th>\n",
       "      <th>collection_recovery_fee</th>\n",
       "      <th>last_pymnt_amnt</th>\n",
       "      <th>collections_12_mths_ex_med</th>\n",
       "      <th>mths_since_last_major_derog</th>\n",
       "      <th>policy_code</th>\n",
       "      <th>acc_now_delinq</th>\n",
       "      <th>tot_coll_amt</th>\n",
       "      <th>tot_cur_bal</th>\n",
       "      <th>open_acc_6m</th>\n",
       "      <th>default_ind</th>\n",
       "    </tr>\n",
       "  </thead>\n",
       "  <tbody>\n",
       "    <tr>\n",
       "      <th>count</th>\n",
       "      <td>5.989780e+05</td>\n",
       "      <td>5.989780e+05</td>\n",
       "      <td>598978.000000</td>\n",
       "      <td>598978.000000</td>\n",
       "      <td>598978.000000</td>\n",
       "      <td>598978.000000</td>\n",
       "      <td>598978.000000</td>\n",
       "      <td>5.989780e+05</td>\n",
       "      <td>598978.000000</td>\n",
       "      <td>598978.000000</td>\n",
       "      <td>...</td>\n",
       "      <td>598978.000000</td>\n",
       "      <td>598978.000000</td>\n",
       "      <td>598922.000000</td>\n",
       "      <td>138227.000000</td>\n",
       "      <td>598978.0</td>\n",
       "      <td>598978.000000</td>\n",
       "      <td>5.316650e+05</td>\n",
       "      <td>5.316650e+05</td>\n",
       "      <td>0.0</td>\n",
       "      <td>598978.000000</td>\n",
       "    </tr>\n",
       "    <tr>\n",
       "      <th>mean</th>\n",
       "      <td>2.044157e+07</td>\n",
       "      <td>2.231985e+07</td>\n",
       "      <td>14540.642519</td>\n",
       "      <td>14521.789031</td>\n",
       "      <td>14478.973948</td>\n",
       "      <td>13.520911</td>\n",
       "      <td>434.562058</td>\n",
       "      <td>7.397280e+04</td>\n",
       "      <td>17.638408</td>\n",
       "      <td>0.297171</td>\n",
       "      <td>...</td>\n",
       "      <td>7.075547</td>\n",
       "      <td>2815.793083</td>\n",
       "      <td>0.011255</td>\n",
       "      <td>43.363084</td>\n",
       "      <td>1.0</td>\n",
       "      <td>0.004625</td>\n",
       "      <td>2.089273e+02</td>\n",
       "      <td>1.389905e+05</td>\n",
       "      <td>NaN</td>\n",
       "      <td>0.077058</td>\n",
       "    </tr>\n",
       "    <tr>\n",
       "      <th>std</th>\n",
       "      <td>1.619182e+07</td>\n",
       "      <td>1.711491e+07</td>\n",
       "      <td>8336.476483</td>\n",
       "      <td>8327.529212</td>\n",
       "      <td>8337.695086</td>\n",
       "      <td>4.370961</td>\n",
       "      <td>242.892709</td>\n",
       "      <td>5.676163e+04</td>\n",
       "      <td>8.070746</td>\n",
       "      <td>0.828659</td>\n",
       "      <td>...</td>\n",
       "      <td>74.587986</td>\n",
       "      <td>5398.379951</td>\n",
       "      <td>0.119935</td>\n",
       "      <td>21.860221</td>\n",
       "      <td>0.0</td>\n",
       "      <td>0.075951</td>\n",
       "      <td>1.268440e+04</td>\n",
       "      <td>1.525544e+05</td>\n",
       "      <td>NaN</td>\n",
       "      <td>0.266684</td>\n",
       "    </tr>\n",
       "    <tr>\n",
       "      <th>min</th>\n",
       "      <td>5.473400e+04</td>\n",
       "      <td>7.069900e+04</td>\n",
       "      <td>500.000000</td>\n",
       "      <td>500.000000</td>\n",
       "      <td>0.000000</td>\n",
       "      <td>5.320000</td>\n",
       "      <td>15.690000</td>\n",
       "      <td>3.000000e+03</td>\n",
       "      <td>0.000000</td>\n",
       "      <td>0.000000</td>\n",
       "      <td>...</td>\n",
       "      <td>0.000000</td>\n",
       "      <td>0.000000</td>\n",
       "      <td>0.000000</td>\n",
       "      <td>0.000000</td>\n",
       "      <td>1.0</td>\n",
       "      <td>0.000000</td>\n",
       "      <td>0.000000e+00</td>\n",
       "      <td>0.000000e+00</td>\n",
       "      <td>NaN</td>\n",
       "      <td>0.000000</td>\n",
       "    </tr>\n",
       "    <tr>\n",
       "      <th>25%</th>\n",
       "      <td>5.937838e+06</td>\n",
       "      <td>7.205072e+06</td>\n",
       "      <td>8000.000000</td>\n",
       "      <td>8000.000000</td>\n",
       "      <td>8000.000000</td>\n",
       "      <td>10.160000</td>\n",
       "      <td>259.642500</td>\n",
       "      <td>4.500000e+04</td>\n",
       "      <td>11.610000</td>\n",
       "      <td>0.000000</td>\n",
       "      <td>...</td>\n",
       "      <td>0.000000</td>\n",
       "      <td>305.080000</td>\n",
       "      <td>0.000000</td>\n",
       "      <td>26.000000</td>\n",
       "      <td>1.0</td>\n",
       "      <td>0.000000</td>\n",
       "      <td>0.000000e+00</td>\n",
       "      <td>2.919700e+04</td>\n",
       "      <td>NaN</td>\n",
       "      <td>0.000000</td>\n",
       "    </tr>\n",
       "    <tr>\n",
       "      <th>50%</th>\n",
       "      <td>1.564996e+07</td>\n",
       "      <td>1.763377e+07</td>\n",
       "      <td>12600.000000</td>\n",
       "      <td>12525.000000</td>\n",
       "      <td>12500.000000</td>\n",
       "      <td>13.330000</td>\n",
       "      <td>381.840000</td>\n",
       "      <td>6.300000e+04</td>\n",
       "      <td>17.210000</td>\n",
       "      <td>0.000000</td>\n",
       "      <td>...</td>\n",
       "      <td>0.000000</td>\n",
       "      <td>507.380000</td>\n",
       "      <td>0.000000</td>\n",
       "      <td>43.000000</td>\n",
       "      <td>1.0</td>\n",
       "      <td>0.000000</td>\n",
       "      <td>0.000000e+00</td>\n",
       "      <td>8.098600e+04</td>\n",
       "      <td>NaN</td>\n",
       "      <td>0.000000</td>\n",
       "    </tr>\n",
       "    <tr>\n",
       "      <th>75%</th>\n",
       "      <td>3.671239e+07</td>\n",
       "      <td>3.943412e+07</td>\n",
       "      <td>20000.000000</td>\n",
       "      <td>20000.000000</td>\n",
       "      <td>20000.000000</td>\n",
       "      <td>16.290000</td>\n",
       "      <td>568.900000</td>\n",
       "      <td>9.000000e+04</td>\n",
       "      <td>23.290000</td>\n",
       "      <td>0.000000</td>\n",
       "      <td>...</td>\n",
       "      <td>0.000000</td>\n",
       "      <td>1506.602500</td>\n",
       "      <td>0.000000</td>\n",
       "      <td>60.000000</td>\n",
       "      <td>1.0</td>\n",
       "      <td>0.000000</td>\n",
       "      <td>0.000000e+00</td>\n",
       "      <td>2.084020e+05</td>\n",
       "      <td>NaN</td>\n",
       "      <td>0.000000</td>\n",
       "    </tr>\n",
       "    <tr>\n",
       "      <th>max</th>\n",
       "      <td>5.095230e+07</td>\n",
       "      <td>5.433202e+07</td>\n",
       "      <td>35000.000000</td>\n",
       "      <td>35000.000000</td>\n",
       "      <td>35000.000000</td>\n",
       "      <td>28.990000</td>\n",
       "      <td>1409.990000</td>\n",
       "      <td>8.706582e+06</td>\n",
       "      <td>39.990000</td>\n",
       "      <td>39.000000</td>\n",
       "      <td>...</td>\n",
       "      <td>7002.190000</td>\n",
       "      <td>36475.590000</td>\n",
       "      <td>20.000000</td>\n",
       "      <td>188.000000</td>\n",
       "      <td>1.0</td>\n",
       "      <td>14.000000</td>\n",
       "      <td>9.152545e+06</td>\n",
       "      <td>8.000078e+06</td>\n",
       "      <td>NaN</td>\n",
       "      <td>1.000000</td>\n",
       "    </tr>\n",
       "  </tbody>\n",
       "</table>\n",
       "<p>8 rows × 36 columns</p>\n",
       "</div>"
      ],
      "text/plain": [
       "                 id     member_id      loan_amnt    funded_amnt  \\\n",
       "count  5.989780e+05  5.989780e+05  598978.000000  598978.000000   \n",
       "mean   2.044157e+07  2.231985e+07   14540.642519   14521.789031   \n",
       "std    1.619182e+07  1.711491e+07    8336.476483    8327.529212   \n",
       "min    5.473400e+04  7.069900e+04     500.000000     500.000000   \n",
       "25%    5.937838e+06  7.205072e+06    8000.000000    8000.000000   \n",
       "50%    1.564996e+07  1.763377e+07   12600.000000   12525.000000   \n",
       "75%    3.671239e+07  3.943412e+07   20000.000000   20000.000000   \n",
       "max    5.095230e+07  5.433202e+07   35000.000000   35000.000000   \n",
       "\n",
       "       funded_amnt_inv       int_rate    installment    annual_inc  \\\n",
       "count    598978.000000  598978.000000  598978.000000  5.989780e+05   \n",
       "mean      14478.973948      13.520911     434.562058  7.397280e+04   \n",
       "std        8337.695086       4.370961     242.892709  5.676163e+04   \n",
       "min           0.000000       5.320000      15.690000  3.000000e+03   \n",
       "25%        8000.000000      10.160000     259.642500  4.500000e+04   \n",
       "50%       12500.000000      13.330000     381.840000  6.300000e+04   \n",
       "75%       20000.000000      16.290000     568.900000  9.000000e+04   \n",
       "max       35000.000000      28.990000    1409.990000  8.706582e+06   \n",
       "\n",
       "                 dti    delinq_2yrs  ...  collection_recovery_fee  \\\n",
       "count  598978.000000  598978.000000  ...            598978.000000   \n",
       "mean       17.638408       0.297171  ...                 7.075547   \n",
       "std         8.070746       0.828659  ...                74.587986   \n",
       "min         0.000000       0.000000  ...                 0.000000   \n",
       "25%        11.610000       0.000000  ...                 0.000000   \n",
       "50%        17.210000       0.000000  ...                 0.000000   \n",
       "75%        23.290000       0.000000  ...                 0.000000   \n",
       "max        39.990000      39.000000  ...              7002.190000   \n",
       "\n",
       "       last_pymnt_amnt  collections_12_mths_ex_med  \\\n",
       "count    598978.000000               598922.000000   \n",
       "mean       2815.793083                    0.011255   \n",
       "std        5398.379951                    0.119935   \n",
       "min           0.000000                    0.000000   \n",
       "25%         305.080000                    0.000000   \n",
       "50%         507.380000                    0.000000   \n",
       "75%        1506.602500                    0.000000   \n",
       "max       36475.590000                   20.000000   \n",
       "\n",
       "       mths_since_last_major_derog  policy_code  acc_now_delinq  tot_coll_amt  \\\n",
       "count                138227.000000     598978.0   598978.000000  5.316650e+05   \n",
       "mean                     43.363084          1.0        0.004625  2.089273e+02   \n",
       "std                      21.860221          0.0        0.075951  1.268440e+04   \n",
       "min                       0.000000          1.0        0.000000  0.000000e+00   \n",
       "25%                      26.000000          1.0        0.000000  0.000000e+00   \n",
       "50%                      43.000000          1.0        0.000000  0.000000e+00   \n",
       "75%                      60.000000          1.0        0.000000  0.000000e+00   \n",
       "max                     188.000000          1.0       14.000000  9.152545e+06   \n",
       "\n",
       "        tot_cur_bal  open_acc_6m    default_ind  \n",
       "count  5.316650e+05          0.0  598978.000000  \n",
       "mean   1.389905e+05          NaN       0.077058  \n",
       "std    1.525544e+05          NaN       0.266684  \n",
       "min    0.000000e+00          NaN       0.000000  \n",
       "25%    2.919700e+04          NaN       0.000000  \n",
       "50%    8.098600e+04          NaN       0.000000  \n",
       "75%    2.084020e+05          NaN       0.000000  \n",
       "max    8.000078e+06          NaN       1.000000  \n",
       "\n",
       "[8 rows x 36 columns]"
      ]
     },
     "execution_count": 17,
     "metadata": {},
     "output_type": "execute_result"
    }
   ],
   "source": [
    "Train_data_3.describe()"
   ]
  },
  {
   "cell_type": "markdown",
   "metadata": {},
   "source": [
    "### Extracting all the numerical columns which have missing values..."
   ]
  },
  {
   "cell_type": "code",
   "execution_count": 20,
   "metadata": {},
   "outputs": [],
   "source": [
    "#mean of all the numerical columns....\n",
    "mean_train = Train_data_3[['mths_since_last_delinq','mths_since_last_record','revol_util'\n",
    "                     ,'collections_12_mths_ex_med','mths_since_last_major_derog','tot_coll_amt','tot_cur_bal']].mean()\n",
    "mean_test = Test_data_3[['mths_since_last_delinq','mths_since_last_record','revol_util'\n",
    "                     ,'collections_12_mths_ex_med','mths_since_last_major_derog','tot_coll_amt','tot_cur_bal']].mean()"
   ]
  },
  {
   "cell_type": "code",
   "execution_count": 22,
   "metadata": {},
   "outputs": [],
   "source": [
    "Train_data_3[['mths_since_last_delinq','mths_since_last_record','revol_util','collections_12_mths_ex_med',\n",
    "             'mths_since_last_major_derog','tot_coll_amt','tot_cur_bal']] = Train_data_3[['mths_since_last_delinq','mths_since_last_record','revol_util','collections_12_mths_ex_med',\n",
    "             'mths_since_last_major_derog','tot_coll_amt','tot_cur_bal']].fillna(mean_train)\n",
    "Test_data_3[['mths_since_last_delinq','mths_since_last_record','revol_util','collections_12_mths_ex_med',\n",
    "             'mths_since_last_major_derog','tot_coll_amt','tot_cur_bal']] = Test_data_3[['mths_since_last_delinq','mths_since_last_record','revol_util','collections_12_mths_ex_med',\n",
    "             'mths_since_last_major_derog','tot_coll_amt','tot_cur_bal']].fillna(mean_test)"
   ]
  },
  {
   "cell_type": "markdown",
   "metadata": {},
   "source": [
    "### Extracting all the string columns(object).."
   ]
  },
  {
   "cell_type": "code",
   "execution_count": 23,
   "metadata": {},
   "outputs": [
    {
     "data": {
      "text/plain": [
       "array([' 36 months', ' 60 months', 'A', 'E', 'D', 'C', 'B', 'F', 'G',\n",
       "       'MORTGAGE', 'RENT', 'OWN', 'ANY'], dtype=object)"
      ]
     },
     "execution_count": 23,
     "metadata": {},
     "output_type": "execute_result"
    }
   ],
   "source": [
    "pd.unique(Train_data_3[['term','grade','home_ownership']].values.ravel('K'))\n",
    "pd.unique(Test_data_3[['term','grade','home_ownership']].values.ravel('K'))"
   ]
  },
  {
   "cell_type": "code",
   "execution_count": 24,
   "metadata": {},
   "outputs": [],
   "source": [
    "Train_data_3['grade'] = Train_data_3['grade'].map({'A':7,'B':6,'C':5,'D':4,'E':3,'F':2,'G':1})\n",
    "Train_data_3['home_ownership'] = Train_data_3['home_ownership'].map({'MORTGAGE':6,'RENT':5,'OWN':4,'OTHER':3\n",
    "                                                                 ,'NONE':2,'ANY':1})\n",
    "\n",
    "Train_data_3[\"emp_length\"] = Train_data_3[\"emp_length\"].replace({'years':'','year':'',' ':'','<':'','\\+':'','n/a':'0','s':''},\n",
    "                                                            regex = True)\n",
    "\n",
    "##test\n",
    "Test_data_3['grade'] = Test_data_3['grade'].map({'A':7,'B':6,'C':5,'D':4,'E':3,'F':2,'G':1})\n",
    "Test_data_3['home_ownership'] = Test_data_3['home_ownership'].map({'MORTGAGE':6,'RENT':5,'OWN':4,'OTHER':3\n",
    "                                                                 ,'NONE':2,'ANY':1})\n",
    "\n",
    "Test_data_3[\"emp_length\"] = Test_data_3[\"emp_length\"].replace({'years':'','year':'',' ':'','<':'','\\+':'','n/a':'0','s':''},\n",
    "                                                            regex = True)"
   ]
  },
  {
   "cell_type": "code",
   "execution_count": 25,
   "metadata": {},
   "outputs": [],
   "source": [
    "Train_data_3['term'] = Train_data_3['term'].replace({'months':'',' ':''},regex = True)\n",
    "Test_data_3['term'] = Test_data_3['term'].replace({'months':'',' ':''},regex = True)"
   ]
  },
  {
   "cell_type": "code",
   "execution_count": 26,
   "metadata": {},
   "outputs": [
    {
     "name": "stdout",
     "output_type": "stream",
     "text": [
      "10     195407\n",
      "1       84405\n",
      "2       53373\n",
      "3       47128\n",
      "5       38429\n",
      "4       35792\n",
      "7       32676\n",
      "6       31338\n",
      "8       29126\n",
      "NaN     28105\n",
      "9       23199\n",
      "Name: emp_length, dtype: int64\n"
     ]
    }
   ],
   "source": [
    "print(Train_data_3['emp_length'].value_counts(dropna = False))"
   ]
  },
  {
   "cell_type": "code",
   "execution_count": 27,
   "metadata": {},
   "outputs": [],
   "source": [
    "Train_data_3['emp_length']= pd.to_numeric(Train_data_3['emp_length'],errors = 'coerce')\n",
    "Test_data_3['emp_length']= pd.to_numeric(Test_data_3['emp_length'],errors = 'coerce')"
   ]
  },
  {
   "cell_type": "code",
   "execution_count": 28,
   "metadata": {},
   "outputs": [],
   "source": [
    "mean = Train_data_3['emp_length'].mean()\n",
    "mean_test = Test_data_3['emp_length'].mean()\n",
    "Train_data_3['emp_length'] = Train_data_3['emp_length'].fillna(mean)\n",
    "Test_data_3['emp_length'] = Test_data_3['emp_length'].fillna(mean_test)"
   ]
  },
  {
   "cell_type": "code",
   "execution_count": 29,
   "metadata": {},
   "outputs": [],
   "source": [
    "Train_data_3['term']= pd.to_numeric(Train_data_3['term'],errors = 'coerce')\n",
    "Test_data_3['term']= pd.to_numeric(Test_data_3['term'],errors = 'coerce')"
   ]
  },
  {
   "cell_type": "markdown",
   "metadata": {},
   "source": [
    "## Features Selection."
   ]
  },
  {
   "cell_type": "code",
   "execution_count": 30,
   "metadata": {},
   "outputs": [],
   "source": [
    "features = ['loan_amnt','funded_amnt','funded_amnt_inv','term','int_rate','installment','grade','emp_length','home_ownership',\n",
    "'annual_inc','dti','delinq_2yrs','inq_last_6mths','mths_since_last_delinq','mths_since_last_record','open_acc','pub_rec',\n",
    "'revol_bal','revol_util','total_acc','out_prncp','out_prncp_inv','total_pymnt','total_pymnt_inv','total_rec_prncp',\n",
    "'total_rec_int','total_rec_late_fee','recoveries','collection_recovery_fee','last_pymnt_amnt','collections_12_mths_ex_med',\n",
    "'mths_since_last_major_derog','policy_code','acc_now_delinq','tot_coll_amt','tot_cur_bal']\n",
    "train = Train_data_3[features]\n",
    "test = Test_data_3[features]"
   ]
  },
  {
   "cell_type": "code",
   "execution_count": 31,
   "metadata": {},
   "outputs": [
    {
     "data": {
      "text/html": [
       "<div>\n",
       "<style scoped>\n",
       "    .dataframe tbody tr th:only-of-type {\n",
       "        vertical-align: middle;\n",
       "    }\n",
       "\n",
       "    .dataframe tbody tr th {\n",
       "        vertical-align: top;\n",
       "    }\n",
       "\n",
       "    .dataframe thead th {\n",
       "        text-align: right;\n",
       "    }\n",
       "</style>\n",
       "<table border=\"1\" class=\"dataframe\">\n",
       "  <thead>\n",
       "    <tr style=\"text-align: right;\">\n",
       "      <th></th>\n",
       "      <th>loan_amnt</th>\n",
       "      <th>funded_amnt</th>\n",
       "      <th>funded_amnt_inv</th>\n",
       "      <th>term</th>\n",
       "      <th>int_rate</th>\n",
       "      <th>installment</th>\n",
       "      <th>grade</th>\n",
       "      <th>emp_length</th>\n",
       "      <th>home_ownership</th>\n",
       "      <th>annual_inc</th>\n",
       "      <th>...</th>\n",
       "      <th>total_rec_late_fee</th>\n",
       "      <th>recoveries</th>\n",
       "      <th>collection_recovery_fee</th>\n",
       "      <th>last_pymnt_amnt</th>\n",
       "      <th>collections_12_mths_ex_med</th>\n",
       "      <th>mths_since_last_major_derog</th>\n",
       "      <th>policy_code</th>\n",
       "      <th>acc_now_delinq</th>\n",
       "      <th>tot_coll_amt</th>\n",
       "      <th>tot_cur_bal</th>\n",
       "    </tr>\n",
       "  </thead>\n",
       "  <tbody>\n",
       "    <tr>\n",
       "      <th>452272</th>\n",
       "      <td>25000.0</td>\n",
       "      <td>25000.0</td>\n",
       "      <td>25000.0</td>\n",
       "      <td>36</td>\n",
       "      <td>5.32</td>\n",
       "      <td>752.87</td>\n",
       "      <td>7</td>\n",
       "      <td>1.0</td>\n",
       "      <td>6</td>\n",
       "      <td>150000.0</td>\n",
       "      <td>...</td>\n",
       "      <td>0.0</td>\n",
       "      <td>0.0</td>\n",
       "      <td>0.0</td>\n",
       "      <td>701.14</td>\n",
       "      <td>0.0</td>\n",
       "      <td>45.463878</td>\n",
       "      <td>1.0</td>\n",
       "      <td>0.0</td>\n",
       "      <td>0.0</td>\n",
       "      <td>430856.0</td>\n",
       "    </tr>\n",
       "    <tr>\n",
       "      <th>452273</th>\n",
       "      <td>18000.0</td>\n",
       "      <td>18000.0</td>\n",
       "      <td>18000.0</td>\n",
       "      <td>60</td>\n",
       "      <td>19.48</td>\n",
       "      <td>471.70</td>\n",
       "      <td>3</td>\n",
       "      <td>7.0</td>\n",
       "      <td>5</td>\n",
       "      <td>150000.0</td>\n",
       "      <td>...</td>\n",
       "      <td>0.0</td>\n",
       "      <td>0.0</td>\n",
       "      <td>0.0</td>\n",
       "      <td>335.34</td>\n",
       "      <td>0.0</td>\n",
       "      <td>45.463878</td>\n",
       "      <td>1.0</td>\n",
       "      <td>0.0</td>\n",
       "      <td>60.0</td>\n",
       "      <td>36247.0</td>\n",
       "    </tr>\n",
       "    <tr>\n",
       "      <th>452274</th>\n",
       "      <td>7000.0</td>\n",
       "      <td>7000.0</td>\n",
       "      <td>7000.0</td>\n",
       "      <td>36</td>\n",
       "      <td>7.49</td>\n",
       "      <td>217.72</td>\n",
       "      <td>7</td>\n",
       "      <td>10.0</td>\n",
       "      <td>6</td>\n",
       "      <td>59000.0</td>\n",
       "      <td>...</td>\n",
       "      <td>0.0</td>\n",
       "      <td>0.0</td>\n",
       "      <td>0.0</td>\n",
       "      <td>0.00</td>\n",
       "      <td>0.0</td>\n",
       "      <td>45.463878</td>\n",
       "      <td>1.0</td>\n",
       "      <td>0.0</td>\n",
       "      <td>0.0</td>\n",
       "      <td>55222.0</td>\n",
       "    </tr>\n",
       "    <tr>\n",
       "      <th>452275</th>\n",
       "      <td>20000.0</td>\n",
       "      <td>20000.0</td>\n",
       "      <td>20000.0</td>\n",
       "      <td>36</td>\n",
       "      <td>17.97</td>\n",
       "      <td>722.75</td>\n",
       "      <td>4</td>\n",
       "      <td>7.0</td>\n",
       "      <td>6</td>\n",
       "      <td>180000.0</td>\n",
       "      <td>...</td>\n",
       "      <td>0.0</td>\n",
       "      <td>0.0</td>\n",
       "      <td>0.0</td>\n",
       "      <td>0.00</td>\n",
       "      <td>0.0</td>\n",
       "      <td>45.463878</td>\n",
       "      <td>1.0</td>\n",
       "      <td>0.0</td>\n",
       "      <td>418.0</td>\n",
       "      <td>277227.0</td>\n",
       "    </tr>\n",
       "    <tr>\n",
       "      <th>452276</th>\n",
       "      <td>15000.0</td>\n",
       "      <td>15000.0</td>\n",
       "      <td>15000.0</td>\n",
       "      <td>36</td>\n",
       "      <td>6.99</td>\n",
       "      <td>463.09</td>\n",
       "      <td>7</td>\n",
       "      <td>2.0</td>\n",
       "      <td>6</td>\n",
       "      <td>93000.0</td>\n",
       "      <td>...</td>\n",
       "      <td>0.0</td>\n",
       "      <td>0.0</td>\n",
       "      <td>0.0</td>\n",
       "      <td>0.00</td>\n",
       "      <td>0.0</td>\n",
       "      <td>45.463878</td>\n",
       "      <td>1.0</td>\n",
       "      <td>0.0</td>\n",
       "      <td>0.0</td>\n",
       "      <td>306430.0</td>\n",
       "    </tr>\n",
       "  </tbody>\n",
       "</table>\n",
       "<p>5 rows × 36 columns</p>\n",
       "</div>"
      ],
      "text/plain": [
       "        loan_amnt  funded_amnt  funded_amnt_inv  term  int_rate  installment  \\\n",
       "452272    25000.0      25000.0          25000.0    36      5.32       752.87   \n",
       "452273    18000.0      18000.0          18000.0    60     19.48       471.70   \n",
       "452274     7000.0       7000.0           7000.0    36      7.49       217.72   \n",
       "452275    20000.0      20000.0          20000.0    36     17.97       722.75   \n",
       "452276    15000.0      15000.0          15000.0    36      6.99       463.09   \n",
       "\n",
       "        grade  emp_length  home_ownership  annual_inc  ...  \\\n",
       "452272      7         1.0               6    150000.0  ...   \n",
       "452273      3         7.0               5    150000.0  ...   \n",
       "452274      7        10.0               6     59000.0  ...   \n",
       "452275      4         7.0               6    180000.0  ...   \n",
       "452276      7         2.0               6     93000.0  ...   \n",
       "\n",
       "        total_rec_late_fee  recoveries  collection_recovery_fee  \\\n",
       "452272                 0.0         0.0                      0.0   \n",
       "452273                 0.0         0.0                      0.0   \n",
       "452274                 0.0         0.0                      0.0   \n",
       "452275                 0.0         0.0                      0.0   \n",
       "452276                 0.0         0.0                      0.0   \n",
       "\n",
       "        last_pymnt_amnt  collections_12_mths_ex_med  \\\n",
       "452272           701.14                         0.0   \n",
       "452273           335.34                         0.0   \n",
       "452274             0.00                         0.0   \n",
       "452275             0.00                         0.0   \n",
       "452276             0.00                         0.0   \n",
       "\n",
       "        mths_since_last_major_derog  policy_code  acc_now_delinq  \\\n",
       "452272                    45.463878          1.0             0.0   \n",
       "452273                    45.463878          1.0             0.0   \n",
       "452274                    45.463878          1.0             0.0   \n",
       "452275                    45.463878          1.0             0.0   \n",
       "452276                    45.463878          1.0             0.0   \n",
       "\n",
       "        tot_coll_amt  tot_cur_bal  \n",
       "452272           0.0     430856.0  \n",
       "452273          60.0      36247.0  \n",
       "452274           0.0      55222.0  \n",
       "452275         418.0     277227.0  \n",
       "452276           0.0     306430.0  \n",
       "\n",
       "[5 rows x 36 columns]"
      ]
     },
     "execution_count": 31,
     "metadata": {},
     "output_type": "execute_result"
    }
   ],
   "source": [
    "test.head()"
   ]
  },
  {
   "cell_type": "code",
   "execution_count": 32,
   "metadata": {},
   "outputs": [],
   "source": [
    "from sklearn.feature_selection import SelectFromModel\n",
    "from sklearn.ensemble import RandomForestClassifier\n",
    "select = SelectFromModel(RandomForestClassifier(n_estimators=100, random_state=42), threshold='median')"
   ]
  },
  {
   "cell_type": "code",
   "execution_count": 33,
   "metadata": {},
   "outputs": [
    {
     "name": "stderr",
     "output_type": "stream",
     "text": [
      "C:\\Users\\Anish Gupta\\Anaconda3\\lib\\site-packages\\sklearn\\feature_selection\\from_model.py:197: DataConversionWarning: A column-vector y was passed when a 1d array was expected. Please change the shape of y to (n_samples,), for example using ravel().\n",
      "  self.estimator_.fit(X, y, **fit_params)\n"
     ]
    },
    {
     "data": {
      "text/plain": [
       "SelectFromModel(estimator=RandomForestClassifier(bootstrap=True, class_weight=None, criterion='gini',\n",
       "            max_depth=None, max_features='auto', max_leaf_nodes=None,\n",
       "            min_impurity_decrease=0.0, min_impurity_split=None,\n",
       "            min_samples_leaf=1, min_samples_split=2,\n",
       "            min_weight_fraction_leaf=0.0, n_estimators=100, n_jobs=None,\n",
       "            oob_score=False, random_state=42, verbose=0, warm_start=False),\n",
       "        max_features=None, norm_order=1, prefit=False, threshold='median')"
      ]
     },
     "execution_count": 33,
     "metadata": {},
     "output_type": "execute_result"
    }
   ],
   "source": [
    "select.fit(train,train_target)"
   ]
  },
  {
   "cell_type": "code",
   "execution_count": 34,
   "metadata": {},
   "outputs": [],
   "source": [
    "X_train_s = select.transform(train)"
   ]
  },
  {
   "cell_type": "code",
   "execution_count": 35,
   "metadata": {},
   "outputs": [
    {
     "name": "stdout",
     "output_type": "stream",
     "text": [
      "The shape of train is:  (598978, 36)\n",
      "The shape of X_train_s is  (598978, 18)\n"
     ]
    }
   ],
   "source": [
    "print('The shape of train is: ', train.shape)\n",
    "print('The shape of X_train_s is ', X_train_s.shape)"
   ]
  },
  {
   "cell_type": "code",
   "execution_count": 36,
   "metadata": {},
   "outputs": [],
   "source": [
    "X_train_s =pd.DataFrame(X_train_s)"
   ]
  },
  {
   "cell_type": "code",
   "execution_count": 37,
   "metadata": {},
   "outputs": [
    {
     "data": {
      "text/html": [
       "<div>\n",
       "<style scoped>\n",
       "    .dataframe tbody tr th:only-of-type {\n",
       "        vertical-align: middle;\n",
       "    }\n",
       "\n",
       "    .dataframe tbody tr th {\n",
       "        vertical-align: top;\n",
       "    }\n",
       "\n",
       "    .dataframe thead th {\n",
       "        text-align: right;\n",
       "    }\n",
       "</style>\n",
       "<table border=\"1\" class=\"dataframe\">\n",
       "  <thead>\n",
       "    <tr style=\"text-align: right;\">\n",
       "      <th></th>\n",
       "      <th>0</th>\n",
       "      <th>1</th>\n",
       "      <th>2</th>\n",
       "      <th>3</th>\n",
       "      <th>4</th>\n",
       "      <th>5</th>\n",
       "      <th>6</th>\n",
       "      <th>7</th>\n",
       "      <th>8</th>\n",
       "      <th>9</th>\n",
       "      <th>10</th>\n",
       "      <th>11</th>\n",
       "      <th>12</th>\n",
       "      <th>13</th>\n",
       "      <th>14</th>\n",
       "      <th>15</th>\n",
       "      <th>16</th>\n",
       "      <th>17</th>\n",
       "    </tr>\n",
       "  </thead>\n",
       "  <tbody>\n",
       "    <tr>\n",
       "      <th>0</th>\n",
       "      <td>5000.0</td>\n",
       "      <td>5000.0</td>\n",
       "      <td>4975.0</td>\n",
       "      <td>36.0</td>\n",
       "      <td>10.65</td>\n",
       "      <td>162.87</td>\n",
       "      <td>0.0</td>\n",
       "      <td>0.0</td>\n",
       "      <td>5861.071414</td>\n",
       "      <td>5831.78</td>\n",
       "      <td>5000.00</td>\n",
       "      <td>861.07</td>\n",
       "      <td>0.00</td>\n",
       "      <td>0.00</td>\n",
       "      <td>0.00</td>\n",
       "      <td>171.62</td>\n",
       "      <td>208.927341</td>\n",
       "      <td>138990.46045</td>\n",
       "    </tr>\n",
       "    <tr>\n",
       "      <th>1</th>\n",
       "      <td>2500.0</td>\n",
       "      <td>2500.0</td>\n",
       "      <td>2500.0</td>\n",
       "      <td>60.0</td>\n",
       "      <td>15.27</td>\n",
       "      <td>59.83</td>\n",
       "      <td>0.0</td>\n",
       "      <td>0.0</td>\n",
       "      <td>1008.710000</td>\n",
       "      <td>1008.71</td>\n",
       "      <td>456.46</td>\n",
       "      <td>435.17</td>\n",
       "      <td>0.00</td>\n",
       "      <td>117.08</td>\n",
       "      <td>1.11</td>\n",
       "      <td>119.66</td>\n",
       "      <td>208.927341</td>\n",
       "      <td>138990.46045</td>\n",
       "    </tr>\n",
       "    <tr>\n",
       "      <th>2</th>\n",
       "      <td>2400.0</td>\n",
       "      <td>2400.0</td>\n",
       "      <td>2400.0</td>\n",
       "      <td>36.0</td>\n",
       "      <td>15.96</td>\n",
       "      <td>84.33</td>\n",
       "      <td>0.0</td>\n",
       "      <td>0.0</td>\n",
       "      <td>3003.653644</td>\n",
       "      <td>3003.65</td>\n",
       "      <td>2400.00</td>\n",
       "      <td>603.65</td>\n",
       "      <td>0.00</td>\n",
       "      <td>0.00</td>\n",
       "      <td>0.00</td>\n",
       "      <td>649.91</td>\n",
       "      <td>208.927341</td>\n",
       "      <td>138990.46045</td>\n",
       "    </tr>\n",
       "    <tr>\n",
       "      <th>3</th>\n",
       "      <td>10000.0</td>\n",
       "      <td>10000.0</td>\n",
       "      <td>10000.0</td>\n",
       "      <td>36.0</td>\n",
       "      <td>13.49</td>\n",
       "      <td>339.31</td>\n",
       "      <td>0.0</td>\n",
       "      <td>0.0</td>\n",
       "      <td>12226.302212</td>\n",
       "      <td>12226.30</td>\n",
       "      <td>10000.00</td>\n",
       "      <td>2209.33</td>\n",
       "      <td>16.97</td>\n",
       "      <td>0.00</td>\n",
       "      <td>0.00</td>\n",
       "      <td>357.48</td>\n",
       "      <td>208.927341</td>\n",
       "      <td>138990.46045</td>\n",
       "    </tr>\n",
       "    <tr>\n",
       "      <th>4</th>\n",
       "      <td>3000.0</td>\n",
       "      <td>3000.0</td>\n",
       "      <td>3000.0</td>\n",
       "      <td>60.0</td>\n",
       "      <td>12.69</td>\n",
       "      <td>67.79</td>\n",
       "      <td>766.9</td>\n",
       "      <td>766.9</td>\n",
       "      <td>3242.170000</td>\n",
       "      <td>3242.17</td>\n",
       "      <td>2233.10</td>\n",
       "      <td>1009.07</td>\n",
       "      <td>0.00</td>\n",
       "      <td>0.00</td>\n",
       "      <td>0.00</td>\n",
       "      <td>67.79</td>\n",
       "      <td>208.927341</td>\n",
       "      <td>138990.46045</td>\n",
       "    </tr>\n",
       "  </tbody>\n",
       "</table>\n",
       "</div>"
      ],
      "text/plain": [
       "        0        1        2     3      4       5      6      7             8   \\\n",
       "0   5000.0   5000.0   4975.0  36.0  10.65  162.87    0.0    0.0   5861.071414   \n",
       "1   2500.0   2500.0   2500.0  60.0  15.27   59.83    0.0    0.0   1008.710000   \n",
       "2   2400.0   2400.0   2400.0  36.0  15.96   84.33    0.0    0.0   3003.653644   \n",
       "3  10000.0  10000.0  10000.0  36.0  13.49  339.31    0.0    0.0  12226.302212   \n",
       "4   3000.0   3000.0   3000.0  60.0  12.69   67.79  766.9  766.9   3242.170000   \n",
       "\n",
       "         9         10       11     12      13    14      15          16  \\\n",
       "0   5831.78   5000.00   861.07   0.00    0.00  0.00  171.62  208.927341   \n",
       "1   1008.71    456.46   435.17   0.00  117.08  1.11  119.66  208.927341   \n",
       "2   3003.65   2400.00   603.65   0.00    0.00  0.00  649.91  208.927341   \n",
       "3  12226.30  10000.00  2209.33  16.97    0.00  0.00  357.48  208.927341   \n",
       "4   3242.17   2233.10  1009.07   0.00    0.00  0.00   67.79  208.927341   \n",
       "\n",
       "             17  \n",
       "0  138990.46045  \n",
       "1  138990.46045  \n",
       "2  138990.46045  \n",
       "3  138990.46045  \n",
       "4  138990.46045  "
      ]
     },
     "execution_count": 37,
     "metadata": {},
     "output_type": "execute_result"
    }
   ],
   "source": [
    "X_train_s.head()"
   ]
  },
  {
   "cell_type": "code",
   "execution_count": 38,
   "metadata": {},
   "outputs": [
    {
     "data": {
      "text/html": [
       "<div>\n",
       "<style scoped>\n",
       "    .dataframe tbody tr th:only-of-type {\n",
       "        vertical-align: middle;\n",
       "    }\n",
       "\n",
       "    .dataframe tbody tr th {\n",
       "        vertical-align: top;\n",
       "    }\n",
       "\n",
       "    .dataframe thead th {\n",
       "        text-align: right;\n",
       "    }\n",
       "</style>\n",
       "<table border=\"1\" class=\"dataframe\">\n",
       "  <thead>\n",
       "    <tr style=\"text-align: right;\">\n",
       "      <th></th>\n",
       "      <th>loan_amnt</th>\n",
       "      <th>funded_amnt</th>\n",
       "      <th>funded_amnt_inv</th>\n",
       "      <th>term</th>\n",
       "      <th>int_rate</th>\n",
       "      <th>installment</th>\n",
       "      <th>grade</th>\n",
       "      <th>emp_length</th>\n",
       "      <th>home_ownership</th>\n",
       "      <th>annual_inc</th>\n",
       "      <th>...</th>\n",
       "      <th>total_rec_late_fee</th>\n",
       "      <th>recoveries</th>\n",
       "      <th>collection_recovery_fee</th>\n",
       "      <th>last_pymnt_amnt</th>\n",
       "      <th>collections_12_mths_ex_med</th>\n",
       "      <th>mths_since_last_major_derog</th>\n",
       "      <th>policy_code</th>\n",
       "      <th>acc_now_delinq</th>\n",
       "      <th>tot_coll_amt</th>\n",
       "      <th>tot_cur_bal</th>\n",
       "    </tr>\n",
       "  </thead>\n",
       "  <tbody>\n",
       "    <tr>\n",
       "      <th>0</th>\n",
       "      <td>5000.0</td>\n",
       "      <td>5000.0</td>\n",
       "      <td>4975.0</td>\n",
       "      <td>36</td>\n",
       "      <td>10.65</td>\n",
       "      <td>162.87</td>\n",
       "      <td>6</td>\n",
       "      <td>10.0</td>\n",
       "      <td>5</td>\n",
       "      <td>24000.0</td>\n",
       "      <td>...</td>\n",
       "      <td>0.00</td>\n",
       "      <td>0.00</td>\n",
       "      <td>0.00</td>\n",
       "      <td>171.62</td>\n",
       "      <td>0.0</td>\n",
       "      <td>43.363084</td>\n",
       "      <td>1.0</td>\n",
       "      <td>0.0</td>\n",
       "      <td>208.927341</td>\n",
       "      <td>138990.46045</td>\n",
       "    </tr>\n",
       "    <tr>\n",
       "      <th>1</th>\n",
       "      <td>2500.0</td>\n",
       "      <td>2500.0</td>\n",
       "      <td>2500.0</td>\n",
       "      <td>60</td>\n",
       "      <td>15.27</td>\n",
       "      <td>59.83</td>\n",
       "      <td>5</td>\n",
       "      <td>1.0</td>\n",
       "      <td>5</td>\n",
       "      <td>30000.0</td>\n",
       "      <td>...</td>\n",
       "      <td>0.00</td>\n",
       "      <td>117.08</td>\n",
       "      <td>1.11</td>\n",
       "      <td>119.66</td>\n",
       "      <td>0.0</td>\n",
       "      <td>43.363084</td>\n",
       "      <td>1.0</td>\n",
       "      <td>0.0</td>\n",
       "      <td>208.927341</td>\n",
       "      <td>138990.46045</td>\n",
       "    </tr>\n",
       "    <tr>\n",
       "      <th>2</th>\n",
       "      <td>2400.0</td>\n",
       "      <td>2400.0</td>\n",
       "      <td>2400.0</td>\n",
       "      <td>36</td>\n",
       "      <td>15.96</td>\n",
       "      <td>84.33</td>\n",
       "      <td>5</td>\n",
       "      <td>10.0</td>\n",
       "      <td>5</td>\n",
       "      <td>12252.0</td>\n",
       "      <td>...</td>\n",
       "      <td>0.00</td>\n",
       "      <td>0.00</td>\n",
       "      <td>0.00</td>\n",
       "      <td>649.91</td>\n",
       "      <td>0.0</td>\n",
       "      <td>43.363084</td>\n",
       "      <td>1.0</td>\n",
       "      <td>0.0</td>\n",
       "      <td>208.927341</td>\n",
       "      <td>138990.46045</td>\n",
       "    </tr>\n",
       "    <tr>\n",
       "      <th>3</th>\n",
       "      <td>10000.0</td>\n",
       "      <td>10000.0</td>\n",
       "      <td>10000.0</td>\n",
       "      <td>36</td>\n",
       "      <td>13.49</td>\n",
       "      <td>339.31</td>\n",
       "      <td>5</td>\n",
       "      <td>10.0</td>\n",
       "      <td>5</td>\n",
       "      <td>49200.0</td>\n",
       "      <td>...</td>\n",
       "      <td>16.97</td>\n",
       "      <td>0.00</td>\n",
       "      <td>0.00</td>\n",
       "      <td>357.48</td>\n",
       "      <td>0.0</td>\n",
       "      <td>43.363084</td>\n",
       "      <td>1.0</td>\n",
       "      <td>0.0</td>\n",
       "      <td>208.927341</td>\n",
       "      <td>138990.46045</td>\n",
       "    </tr>\n",
       "    <tr>\n",
       "      <th>4</th>\n",
       "      <td>3000.0</td>\n",
       "      <td>3000.0</td>\n",
       "      <td>3000.0</td>\n",
       "      <td>60</td>\n",
       "      <td>12.69</td>\n",
       "      <td>67.79</td>\n",
       "      <td>6</td>\n",
       "      <td>1.0</td>\n",
       "      <td>5</td>\n",
       "      <td>80000.0</td>\n",
       "      <td>...</td>\n",
       "      <td>0.00</td>\n",
       "      <td>0.00</td>\n",
       "      <td>0.00</td>\n",
       "      <td>67.79</td>\n",
       "      <td>0.0</td>\n",
       "      <td>43.363084</td>\n",
       "      <td>1.0</td>\n",
       "      <td>0.0</td>\n",
       "      <td>208.927341</td>\n",
       "      <td>138990.46045</td>\n",
       "    </tr>\n",
       "  </tbody>\n",
       "</table>\n",
       "<p>5 rows × 36 columns</p>\n",
       "</div>"
      ],
      "text/plain": [
       "   loan_amnt  funded_amnt  funded_amnt_inv  term  int_rate  installment  \\\n",
       "0     5000.0       5000.0           4975.0    36     10.65       162.87   \n",
       "1     2500.0       2500.0           2500.0    60     15.27        59.83   \n",
       "2     2400.0       2400.0           2400.0    36     15.96        84.33   \n",
       "3    10000.0      10000.0          10000.0    36     13.49       339.31   \n",
       "4     3000.0       3000.0           3000.0    60     12.69        67.79   \n",
       "\n",
       "   grade  emp_length  home_ownership  annual_inc  ...  total_rec_late_fee  \\\n",
       "0      6        10.0               5     24000.0  ...                0.00   \n",
       "1      5         1.0               5     30000.0  ...                0.00   \n",
       "2      5        10.0               5     12252.0  ...                0.00   \n",
       "3      5        10.0               5     49200.0  ...               16.97   \n",
       "4      6         1.0               5     80000.0  ...                0.00   \n",
       "\n",
       "   recoveries  collection_recovery_fee  last_pymnt_amnt  \\\n",
       "0        0.00                     0.00           171.62   \n",
       "1      117.08                     1.11           119.66   \n",
       "2        0.00                     0.00           649.91   \n",
       "3        0.00                     0.00           357.48   \n",
       "4        0.00                     0.00            67.79   \n",
       "\n",
       "   collections_12_mths_ex_med  mths_since_last_major_derog  policy_code  \\\n",
       "0                         0.0                    43.363084          1.0   \n",
       "1                         0.0                    43.363084          1.0   \n",
       "2                         0.0                    43.363084          1.0   \n",
       "3                         0.0                    43.363084          1.0   \n",
       "4                         0.0                    43.363084          1.0   \n",
       "\n",
       "   acc_now_delinq  tot_coll_amt   tot_cur_bal  \n",
       "0             0.0    208.927341  138990.46045  \n",
       "1             0.0    208.927341  138990.46045  \n",
       "2             0.0    208.927341  138990.46045  \n",
       "3             0.0    208.927341  138990.46045  \n",
       "4             0.0    208.927341  138990.46045  \n",
       "\n",
       "[5 rows x 36 columns]"
      ]
     },
     "execution_count": 38,
     "metadata": {},
     "output_type": "execute_result"
    }
   ],
   "source": [
    "train.head()"
   ]
  },
  {
   "cell_type": "code",
   "execution_count": 39,
   "metadata": {},
   "outputs": [
    {
     "name": "stdout",
     "output_type": "stream",
     "text": [
      "[ True  True  True  True  True  True False False False False False False\n",
      " False False False False False False False False  True  True  True  True\n",
      "  True  True  True  True  True  True False False False False  True  True]\n"
     ]
    },
    {
     "data": {
      "text/plain": [
       "Text(0.5, 0, 'Index of Features')"
      ]
     },
     "execution_count": 39,
     "metadata": {},
     "output_type": "execute_result"
    },
    {
     "data": {
      "image/png": "[encoded data removed]",
      "text/plain": [
       "<Figure size 1152x144 with 1 Axes>"
      ]
     },
     "metadata": {
      "needs_background": "light"
     },
     "output_type": "display_data"
    }
   ],
   "source": [
    "import matplotlib.pyplot as plt\n",
    "%matplotlib inline\n",
    "mask = select.get_support()\n",
    "print(mask)\n",
    "plt.matshow(mask.reshape(1,-1), cmap='gray_r')\n",
    "plt.xlabel('Index of Features')"
   ]
  },
  {
   "cell_type": "code",
   "execution_count": 40,
   "metadata": {},
   "outputs": [
    {
     "name": "stderr",
     "output_type": "stream",
     "text": [
      "C:\\Users\\Anish Gupta\\Anaconda3\\lib\\site-packages\\sklearn\\utils\\validation.py:761: DataConversionWarning: A column-vector y was passed when a 1d array was expected. Please change the shape of y to (n_samples, ), for example using ravel().\n",
      "  y = column_or_1d(y, warn=True)\n"
     ]
    },
    {
     "name": "stdout",
     "output_type": "stream",
     "text": [
      "F-score: (0.7075164845998739, 'loan_amnt')\n",
      "F-score: (0.02230666814250503, 'funded_amnt')\n",
      "F-score: (3.4926499501584085, 'funded_amnt_inv')\n",
      "F-score: (1265.6822527519407, 'term')\n",
      "F-score: (16797.447611993008, 'int_rate')\n",
      "F-score: (36.04571536374752, 'installment')\n",
      "F-score: (12795.86624341213, 'grade')\n",
      "F-score: (157.23718862440958, 'emp_length')\n",
      "F-score: (430.0996906296113, 'home_ownership')\n",
      "F-score: (1229.7197792382153, 'annual_inc')\n",
      "F-score: (482.33321921530927, 'dti')\n",
      "F-score: (27.337977244390597, 'delinq_2yrs')\n",
      "F-score: (3142.4549039440176, 'inq_last_6mths')\n",
      "F-score: (1.3131988097131733, 'mths_since_last_delinq')\n",
      "F-score: (211.9363433464852, 'mths_since_last_record')\n",
      "F-score: (169.5338452367516, 'open_acc')\n",
      "F-score: (166.40483552829113, 'pub_rec')\n",
      "F-score: (261.89900248329286, 'revol_bal')\n",
      "F-score: (1187.9875758248374, 'revol_util')\n",
      "F-score: (368.170635919046, 'total_acc')\n",
      "F-score: (31386.8718909261, 'out_prncp')\n",
      "F-score: (31383.144503813404, 'out_prncp_inv')\n",
      "F-score: (10503.676916276669, 'total_pymnt')\n",
      "F-score: (10657.362301373452, 'total_pymnt_inv')\n",
      "F-score: (20679.946647144985, 'total_rec_prncp')\n",
      "F-score: (110.11629513557195, 'total_rec_int')\n",
      "F-score: (11470.282668255997, 'total_rec_late_fee')\n",
      "F-score: (173281.74404428303, 'recoveries')\n",
      "F-score: (72356.55017637658, 'collection_recovery_fee')\n",
      "F-score: (9713.662206190982, 'last_pymnt_amnt')\n",
      "F-score: (32.646943425078135, 'collections_12_mths_ex_med')\n",
      "F-score: (8.299107920617539, 'mths_since_last_major_derog')\n",
      "F-score: (nan, 'policy_code')\n",
      "F-score: (4.2852806128530165, 'acc_now_delinq')\n",
      "F-score: (1.2372237704577307, 'tot_coll_amt')\n",
      "F-score: (898.0526987628417, 'tot_cur_bal')\n"
     ]
    },
    {
     "name": "stderr",
     "output_type": "stream",
     "text": [
      "C:\\Users\\Anish Gupta\\Anaconda3\\lib\\site-packages\\sklearn\\feature_selection\\univariate_selection.py:114: UserWarning: Features [32] are constant.\n",
      "  UserWarning)\n",
      "C:\\Users\\Anish Gupta\\Anaconda3\\lib\\site-packages\\sklearn\\feature_selection\\univariate_selection.py:115: RuntimeWarning: invalid value encountered in true_divide\n",
      "  f = msb / msw\n"
     ]
    }
   ],
   "source": [
    "from sklearn.feature_selection import SelectPercentile\n",
    "from sklearn.feature_selection import f_classif\n",
    "Selector_f = SelectPercentile(f_classif, percentile=25)\n",
    "Selector_f.fit(train,train_target)\n",
    "\n",
    "for n,s in zip(train,Selector_f.scores_):\n",
    "    print('F-score:', (s,n))"
   ]
  },
  {
   "cell_type": "markdown",
   "metadata": {},
   "source": [
    "## Forward stepwise process for variable selection."
   ]
  },
  {
   "cell_type": "code",
   "execution_count": 50,
   "metadata": {},
   "outputs": [],
   "source": [
    "from sklearn.linear_model import LogisticRegression\n",
    "def auc(variables,target,Train_data_3):\n",
    "    X = Train_data_3[variables]\n",
    "    y = Train_data_3[target]\n",
    "    logreg = LogisticRegression()\n",
    "    logreg.fit(X,y)\n",
    "    predictions = logreg.predict_proba(X)[:,1]\n",
    "    auc =  roc_auc_score(y,predictions)\n",
    "    return auc\n",
    "\n"
   ]
  },
  {
   "cell_type": "code",
   "execution_count": 65,
   "metadata": {},
   "outputs": [
    {
     "name": "stderr",
     "output_type": "stream",
     "text": [
      "C:\\Users\\Anish Gupta\\Anaconda3\\lib\\site-packages\\sklearn\\linear_model\\logistic.py:433: FutureWarning: Default solver will be changed to 'lbfgs' in 0.22. Specify a solver to silence this warning.\n",
      "  FutureWarning)\n",
      "C:\\Users\\Anish Gupta\\Anaconda3\\lib\\site-packages\\sklearn\\utils\\validation.py:761: DataConversionWarning: A column-vector y was passed when a 1d array was expected. Please change the shape of y to (n_samples, ), for example using ravel().\n",
      "  y = column_or_1d(y, warn=True)\n"
     ]
    }
   ],
   "source": [
    "from sklearn.metrics import roc_auc_score\n",
    "auc = auc(['loan_amnt','funded_amnt','funded_amnt_inv','term','int_rate','installment','out_prncp','out_prncp_inv','total_pymnt','total_pymnt_inv','total_rec_prncp',\n",
    "'total_rec_int','total_rec_late_fee','recoveries','collection_recovery_fee',\n",
    " 'last_pymnt_amnt','tot_coll_amt','tot_cur_bal']\n",
    "          ,['default_ind'],Train_data_3)"
   ]
  },
  {
   "cell_type": "code",
   "execution_count": 66,
   "metadata": {},
   "outputs": [
    {
     "name": "stdout",
     "output_type": "stream",
     "text": [
      "0.99\n"
     ]
    }
   ],
   "source": [
    "print(round(auc,2))"
   ]
  },
  {
   "cell_type": "markdown",
   "metadata": {},
   "source": [
    "## Logistic Regression."
   ]
  },
  {
   "cell_type": "code",
   "execution_count": 52,
   "metadata": {},
   "outputs": [],
   "source": [
    "features = ['loan_amnt','funded_amnt','funded_amnt_inv','term','int_rate','installment','grade','out_prncp',\n",
    "            'out_prncp_inv','total_pymnt',\n",
    " 'total_pymnt_inv','total_rec_prncp',\n",
    "'total_rec_int','total_rec_late_fee','recoveries','collection_recovery_fee',\n",
    " 'last_pymnt_amnt','tot_cur_bal']"
   ]
  },
  {
   "cell_type": "code",
   "execution_count": 53,
   "metadata": {},
   "outputs": [],
   "source": [
    "Final_train = Train_data_3[features]\n",
    "Final_test = Test_data_3[features]"
   ]
  },
  {
   "cell_type": "code",
   "execution_count": 54,
   "metadata": {},
   "outputs": [
    {
     "data": {
      "text/plain": [
       "(598978, 1)"
      ]
     },
     "execution_count": 54,
     "metadata": {},
     "output_type": "execute_result"
    }
   ],
   "source": [
    "train_target.shape"
   ]
  },
  {
   "cell_type": "code",
   "execution_count": 55,
   "metadata": {},
   "outputs": [
    {
     "data": {
      "text/plain": [
       "(598978, 18)"
      ]
     },
     "execution_count": 55,
     "metadata": {},
     "output_type": "execute_result"
    }
   ],
   "source": [
    "Final_train.shape"
   ]
  },
  {
   "cell_type": "code",
   "execution_count": 57,
   "metadata": {},
   "outputs": [],
   "source": [
    "from sklearn.model_selection import train_test_split\n",
    "X_train,X_test,y_train,y_test = train_test_split(Final_train,train_target,random_state = 42,test_size = 0.3)"
   ]
  },
  {
   "cell_type": "code",
   "execution_count": 58,
   "metadata": {},
   "outputs": [],
   "source": [
    "logreg = LogisticRegression()"
   ]
  },
  {
   "cell_type": "code",
   "execution_count": 59,
   "metadata": {},
   "outputs": [
    {
     "name": "stderr",
     "output_type": "stream",
     "text": [
      "C:\\Users\\Anish Gupta\\Anaconda3\\lib\\site-packages\\sklearn\\linear_model\\logistic.py:433: FutureWarning: Default solver will be changed to 'lbfgs' in 0.22. Specify a solver to silence this warning.\n",
      "  FutureWarning)\n",
      "C:\\Users\\Anish Gupta\\Anaconda3\\lib\\site-packages\\sklearn\\utils\\validation.py:761: DataConversionWarning: A column-vector y was passed when a 1d array was expected. Please change the shape of y to (n_samples, ), for example using ravel().\n",
      "  y = column_or_1d(y, warn=True)\n"
     ]
    },
    {
     "data": {
      "text/plain": [
       "LogisticRegression(C=1.0, class_weight=None, dual=False, fit_intercept=True,\n",
       "          intercept_scaling=1, max_iter=100, multi_class='warn',\n",
       "          n_jobs=None, penalty='l2', random_state=None, solver='warn',\n",
       "          tol=0.0001, verbose=0, warm_start=False)"
      ]
     },
     "execution_count": 59,
     "metadata": {},
     "output_type": "execute_result"
    }
   ],
   "source": [
    "logreg.fit(X_train,y_train)"
   ]
  },
  {
   "cell_type": "code",
   "execution_count": 60,
   "metadata": {},
   "outputs": [],
   "source": [
    "y_pred = logreg.predict(X_test)"
   ]
  },
  {
   "cell_type": "code",
   "execution_count": 61,
   "metadata": {},
   "outputs": [
    {
     "data": {
      "text/plain": [
       "0.9969114160739925"
      ]
     },
     "execution_count": 61,
     "metadata": {},
     "output_type": "execute_result"
    }
   ],
   "source": [
    "logreg.score(X_test,y_test)"
   ]
  },
  {
   "cell_type": "code",
   "execution_count": 62,
   "metadata": {},
   "outputs": [],
   "source": [
    "from sklearn.metrics import confusion_matrix\n",
    "from sklearn.metrics import classification_report"
   ]
  },
  {
   "cell_type": "code",
   "execution_count": 63,
   "metadata": {},
   "outputs": [
    {
     "name": "stdout",
     "output_type": "stream",
     "text": [
      "confusion matrix is: [[165789     16]\n",
      " [   539  13350]]\n"
     ]
    }
   ],
   "source": [
    "print(\"confusion matrix is: {}\".format(confusion_matrix(y_test,y_pred)))"
   ]
  },
  {
   "cell_type": "code",
   "execution_count": 64,
   "metadata": {},
   "outputs": [
    {
     "name": "stdout",
     "output_type": "stream",
     "text": [
      "              precision    recall  f1-score   support\n",
      "\n",
      "           0       1.00      1.00      1.00    165805\n",
      "           1       1.00      0.96      0.98     13889\n",
      "\n",
      "   micro avg       1.00      1.00      1.00    179694\n",
      "   macro avg       1.00      0.98      0.99    179694\n",
      "weighted avg       1.00      1.00      1.00    179694\n",
      "\n"
     ]
    }
   ],
   "source": [
    "print(classification_report(y_test,y_pred))"
   ]
  },
  {
   "cell_type": "code",
   "execution_count": 67,
   "metadata": {},
   "outputs": [],
   "source": [
    "#plotting the roc curve\n",
    "from sklearn.metrics import roc_curve\n",
    "import matplotlib.pyplot as plt\n",
    "from sklearn.metrics import roc_auc_score"
   ]
  },
  {
   "cell_type": "code",
   "execution_count": 68,
   "metadata": {},
   "outputs": [
    {
     "data": {
      "text/plain": [
       "[<matplotlib.lines.Line2D at 0x21cd4ba7710>]"
      ]
     },
     "execution_count": 68,
     "metadata": {},
     "output_type": "execute_result"
    },
    {
     "data": {
      "image/png": "[encoded data removed]",
      "text/plain": [
       "<Figure size 432x288 with 1 Axes>"
      ]
     },
     "metadata": {
      "needs_background": "light"
     },
     "output_type": "display_data"
    }
   ],
   "source": [
    "y_pred_prob = logreg.predict_proba(X_test)[:,1]\n",
    "fpr,tpr,threshold = roc_curve(y_test,y_pred_prob)\n",
    "plt.xlabel('Fpr')\n",
    "plt.ylabel('Tpr')\n",
    "plt.plot([0,1],[0,1],'k--')\n",
    "plt.plot(fpr,tpr,label = 'logistic regression')"
   ]
  },
  {
   "cell_type": "code",
   "execution_count": 69,
   "metadata": {},
   "outputs": [
    {
     "data": {
      "text/plain": [
       "0.9900578324880953"
      ]
     },
     "execution_count": 69,
     "metadata": {},
     "output_type": "execute_result"
    }
   ],
   "source": [
    "roc_auc_score(y_test,y_pred_prob)"
   ]
  },
  {
   "cell_type": "markdown",
   "metadata": {},
   "source": [
    "### Predicting on the final_test values."
   ]
  },
  {
   "cell_type": "code",
   "execution_count": 70,
   "metadata": {},
   "outputs": [
    {
     "data": {
      "text/plain": [
       "array([0, 0, 0, 0, 0], dtype=int64)"
      ]
     },
     "execution_count": 70,
     "metadata": {},
     "output_type": "execute_result"
    }
   ],
   "source": [
    "logreg.predict(Final_test)[0:5]"
   ]
  },
  {
   "cell_type": "code",
   "execution_count": 71,
   "metadata": {},
   "outputs": [
    {
     "name": "stdout",
     "output_type": "stream",
     "text": [
      "The probability of the coming 1 on the final_tes is :[3.01814633e-07 6.05974177e-04 5.44399945e-02 ... 1.45858360e-07\n",
      " 1.82300251e-06 1.41090767e-05]\n"
     ]
    }
   ],
   "source": [
    "Predict_finaltest = logreg.predict_proba(Final_test)[:,1]\n",
    "print(\"The probability of the coming 1 on the final_tes is :{}\".format(Predict_finaltest,2))"
   ]
  },
  {
   "cell_type": "code",
   "execution_count": 72,
   "metadata": {},
   "outputs": [
    {
     "data": {
      "text/plain": [
       "0.902198278086694"
      ]
     },
     "execution_count": 72,
     "metadata": {},
     "output_type": "execute_result"
    }
   ],
   "source": [
    "roc_auc_score(test_target,Predict_finaltest)"
   ]
  },
  {
   "cell_type": "code",
   "execution_count": 73,
   "metadata": {},
   "outputs": [
    {
     "data": {
      "text/plain": [
       "[<matplotlib.lines.Line2D at 0x21d15490550>]"
      ]
     },
     "execution_count": 73,
     "metadata": {},
     "output_type": "execute_result"
    },
    {
     "data": {
      "image/png": "[encoded data removed]",
      "text/plain": [
       "<Figure size 432x288 with 1 Axes>"
      ]
     },
     "metadata": {
      "needs_background": "light"
     },
     "output_type": "display_data"
    }
   ],
   "source": [
    "Predict_finaltest = logreg.predict_proba(Final_test)[:,1]\n",
    "roc_curve(test_target,Predict_finaltest)\n",
    "plt.xlabel('Fpr')\n",
    "plt.ylabel('Tpr')\n",
    "plt.plot([0,1],[0,1],'k--')\n",
    "plt.plot(fpr,tpr,label = 'logistic regression')"
   ]
  },
  {
   "cell_type": "code",
   "execution_count": 74,
   "metadata": {},
   "outputs": [
    {
     "name": "stderr",
     "output_type": "stream",
     "text": [
      "C:\\Users\\Anish Gupta\\Anaconda3\\lib\\site-packages\\sklearn\\linear_model\\logistic.py:433: FutureWarning: Default solver will be changed to 'lbfgs' in 0.22. Specify a solver to silence this warning.\n",
      "  FutureWarning)\n",
      "C:\\Users\\Anish Gupta\\Anaconda3\\lib\\site-packages\\sklearn\\utils\\validation.py:761: DataConversionWarning: A column-vector y was passed when a 1d array was expected. Please change the shape of y to (n_samples, ), for example using ravel().\n",
      "  y = column_or_1d(y, warn=True)\n",
      "C:\\Users\\Anish Gupta\\Anaconda3\\lib\\site-packages\\sklearn\\linear_model\\logistic.py:433: FutureWarning: Default solver will be changed to 'lbfgs' in 0.22. Specify a solver to silence this warning.\n",
      "  FutureWarning)\n",
      "C:\\Users\\Anish Gupta\\Anaconda3\\lib\\site-packages\\sklearn\\utils\\validation.py:761: DataConversionWarning: A column-vector y was passed when a 1d array was expected. Please change the shape of y to (n_samples, ), for example using ravel().\n",
      "  y = column_or_1d(y, warn=True)\n",
      "C:\\Users\\Anish Gupta\\Anaconda3\\lib\\site-packages\\sklearn\\linear_model\\logistic.py:433: FutureWarning: Default solver will be changed to 'lbfgs' in 0.22. Specify a solver to silence this warning.\n",
      "  FutureWarning)\n",
      "C:\\Users\\Anish Gupta\\Anaconda3\\lib\\site-packages\\sklearn\\utils\\validation.py:761: DataConversionWarning: A column-vector y was passed when a 1d array was expected. Please change the shape of y to (n_samples, ), for example using ravel().\n",
      "  y = column_or_1d(y, warn=True)\n",
      "C:\\Users\\Anish Gupta\\Anaconda3\\lib\\site-packages\\sklearn\\linear_model\\logistic.py:433: FutureWarning: Default solver will be changed to 'lbfgs' in 0.22. Specify a solver to silence this warning.\n",
      "  FutureWarning)\n",
      "C:\\Users\\Anish Gupta\\Anaconda3\\lib\\site-packages\\sklearn\\utils\\validation.py:761: DataConversionWarning: A column-vector y was passed when a 1d array was expected. Please change the shape of y to (n_samples, ), for example using ravel().\n",
      "  y = column_or_1d(y, warn=True)\n",
      "C:\\Users\\Anish Gupta\\Anaconda3\\lib\\site-packages\\sklearn\\linear_model\\logistic.py:433: FutureWarning: Default solver will be changed to 'lbfgs' in 0.22. Specify a solver to silence this warning.\n",
      "  FutureWarning)\n",
      "C:\\Users\\Anish Gupta\\Anaconda3\\lib\\site-packages\\sklearn\\utils\\validation.py:761: DataConversionWarning: A column-vector y was passed when a 1d array was expected. Please change the shape of y to (n_samples, ), for example using ravel().\n",
      "  y = column_or_1d(y, warn=True)\n",
      "C:\\Users\\Anish Gupta\\Anaconda3\\lib\\site-packages\\sklearn\\linear_model\\logistic.py:433: FutureWarning: Default solver will be changed to 'lbfgs' in 0.22. Specify a solver to silence this warning.\n",
      "  FutureWarning)\n",
      "C:\\Users\\Anish Gupta\\Anaconda3\\lib\\site-packages\\sklearn\\utils\\validation.py:761: DataConversionWarning: A column-vector y was passed when a 1d array was expected. Please change the shape of y to (n_samples, ), for example using ravel().\n",
      "  y = column_or_1d(y, warn=True)\n",
      "C:\\Users\\Anish Gupta\\Anaconda3\\lib\\site-packages\\sklearn\\linear_model\\logistic.py:433: FutureWarning: Default solver will be changed to 'lbfgs' in 0.22. Specify a solver to silence this warning.\n",
      "  FutureWarning)\n",
      "C:\\Users\\Anish Gupta\\Anaconda3\\lib\\site-packages\\sklearn\\utils\\validation.py:761: DataConversionWarning: A column-vector y was passed when a 1d array was expected. Please change the shape of y to (n_samples, ), for example using ravel().\n",
      "  y = column_or_1d(y, warn=True)\n"
     ]
    }
   ],
   "source": [
    "#cross validation\n",
    "from sklearn.model_selection import cross_val_score\n",
    "cv = cross_val_score(logreg,Final_train,train_target,cv = 7)"
   ]
  },
  {
   "cell_type": "code",
   "execution_count": 75,
   "metadata": {
    "scrolled": true
   },
   "outputs": [
    {
     "name": "stdout",
     "output_type": "stream",
     "text": [
      "the cv score is:[0.99609672 0.99860931 0.99906508 0.99652912 0.99590969 0.99680952\n",
      " 0.99449554]\n"
     ]
    }
   ],
   "source": [
    "print(\"the cv score is:{}\".format(cv))"
   ]
  },
  {
   "cell_type": "markdown",
   "metadata": {},
   "source": [
    "#### collecting the next best variable.... def next_best(current_variables,candidate_variables,target,df): best_auc = -1 best_variable = None for v in candidate_variables: auc_v = auc(current_variables + [v],target,df) if auc_v > best_auc: best_auc = auc_v best_variable = v return best_variable"
   ]
  },
  {
   "cell_type": "markdown",
   "metadata": {},
   "source": [
    "## KNN Classification."
   ]
  },
  {
   "cell_type": "code",
   "execution_count": 76,
   "metadata": {},
   "outputs": [
    {
     "name": "stderr",
     "output_type": "stream",
     "text": [
      "C:\\Users\\Anish Gupta\\Anaconda3\\lib\\site-packages\\ipykernel_launcher.py:4: DataConversionWarning: A column-vector y was passed when a 1d array was expected. Please change the shape of y to (n_samples, ), for example using ravel().\n",
      "  after removing the cwd from sys.path.\n"
     ]
    },
    {
     "data": {
      "text/plain": [
       "0.9950693957505538"
      ]
     },
     "execution_count": 76,
     "metadata": {},
     "output_type": "execute_result"
    }
   ],
   "source": [
    "from sklearn.neighbors import KNeighborsClassifier\n",
    "X_train,X_test,y_train,y_test = train_test_split(Final_train,train_target,random_state = 42,test_size = 0.3)\n",
    "knn = KNeighborsClassifier(n_neighbors=5)\n",
    "knn.fit(X_train,y_train)\n",
    "y_pred = knn.predict(X_test)\n",
    "knn.score(X_test,y_test)"
   ]
  },
  {
   "cell_type": "code",
   "execution_count": 77,
   "metadata": {},
   "outputs": [
    {
     "data": {
      "text/plain": [
       "[<matplotlib.lines.Line2D at 0x21d15708ef0>]"
      ]
     },
     "execution_count": 77,
     "metadata": {},
     "output_type": "execute_result"
    },
    {
     "data": {
      "image/png": "[encoded data removed]",
      "text/plain": [
       "<Figure size 432x288 with 1 Axes>"
      ]
     },
     "metadata": {
      "needs_background": "light"
     },
     "output_type": "display_data"
    }
   ],
   "source": [
    "knn_predict = knn.predict_proba(X_test)[:,1]\n",
    "fpr,tpr,threshold = roc_curve(y_test,knn_predict)\n",
    "plt.xlabel('Fpr')\n",
    "plt.ylabel('Tpr')\n",
    "plt.plot([0,1],[0,1],'k--')\n",
    "plt.plot(fpr,tpr,label = 'knn')"
   ]
  },
  {
   "cell_type": "markdown",
   "metadata": {},
   "source": [
    "## Predicting on the final test set uning knn."
   ]
  },
  {
   "cell_type": "code",
   "execution_count": 78,
   "metadata": {},
   "outputs": [
    {
     "data": {
      "text/plain": [
       "array([0, 1, 0, ..., 0, 0, 0], dtype=int64)"
      ]
     },
     "execution_count": 78,
     "metadata": {},
     "output_type": "execute_result"
    }
   ],
   "source": [
    "y_pred = knn.predict(Final_test)\n",
    "y_pred"
   ]
  },
  {
   "cell_type": "code",
   "execution_count": 79,
   "metadata": {},
   "outputs": [],
   "source": [
    "pred = knn.predict_proba(Final_test)[:,1]"
   ]
  },
  {
   "cell_type": "code",
   "execution_count": 80,
   "metadata": {},
   "outputs": [
    {
     "data": {
      "text/plain": [
       "0.9124111020415526"
      ]
     },
     "execution_count": 80,
     "metadata": {},
     "output_type": "execute_result"
    }
   ],
   "source": [
    "roc_auc_score(test_target,pred)"
   ]
  }
 ],
 "metadata": {
  "kernelspec": {
   "display_name": "Python 3",
   "language": "python",
   "name": "python3"
  },
  "language_info": {
   "codemirror_mode": {
    "name": "ipython",
    "version": 3
   },
   "file_extension": ".py",
   "mimetype": "text/x-python",
   "name": "python",
   "nbconvert_exporter": "python",
   "pygments_lexer": "ipython3",
   "version": "3.7.3"
  }
 },
 "nbformat": 4,
 "nbformat_minor": 2
}
